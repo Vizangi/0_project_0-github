{
 "cells": [
  {
   "cell_type": "code",
   "execution_count": 19,
   "metadata": {},
   "outputs": [
    {
     "name": "stdout",
     "output_type": "stream",
     "text": [
      "Загадано число от 1 до 100\n",
      "Загаданное число меньше 50\n",
      "Загаданное число меньше 25\n",
      "Загаданное число больше 13\n",
      "Вы угадали число 19 за 3 попыток.\n"
     ]
    }
   ],
   "source": [
    "import numpy as np\n",
    "\n",
    "count = 0\n",
    "dif = [25, 12, 6, 3, 2, 1]\n",
    "mid = 50\n",
    "number = np.random.randint(1,101)  # загаданное\n",
    "print (\"Загадано число от 1 до 100\")\n",
    "while True:          \n",
    "    if number < mid:\n",
    "        print(f'Загаданное число меньше {mid}')\n",
    "        mid = int(mid - dif[count])\n",
    "        count += 1\n",
    "    elif number > mid:\n",
    "        print(f'Загаданное число больше {mid}')\n",
    "        mid = int(mid + dif[count])\n",
    "        count += 1\n",
    "    elif number == mid:\n",
    "        print (f\"Вы угадали число {number} за {count} попыток.\")\n",
    "        break\n",
    "        \n",
    "print('Вот и сказочке конец.')        "
   ]
  }
 ],
 "metadata": {
  "kernelspec": {
   "display_name": "Python 3",
   "language": "python",
   "name": "python3"
  },
  "language_info": {
   "codemirror_mode": {
    "name": "ipython",
    "version": 3
   },
   "file_extension": ".py",
   "mimetype": "text/x-python",
   "name": "python",
   "nbconvert_exporter": "python",
   "pygments_lexer": "ipython3",
   "version": "3.8.5"
  }
 },
 "nbformat": 4,
 "nbformat_minor": 4
}
